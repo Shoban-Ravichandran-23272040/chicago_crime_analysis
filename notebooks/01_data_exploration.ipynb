{
 "cells": [
  {
   "cell_type": "markdown",
   "metadata": {},
   "source": [
    "# Chicago Crime Data Exploration\n",
    "\n",
    "This notebook explores the theft crime data from the Chicago Data Portal, focusing on pocket-picking and purse-snatching incidents."
   ]
  },
  {
   "cell_type": "code",
   "execution_count": null,
   "metadata": {},
   "outputs": [],
   "source": [
    "import pandas as pd\n",
    "import numpy as np\n",
    "import matplotlib.pyplot as plt\n",
    "import seaborn as sns\n",
    "import os\n",
    "import sys\n",
    "\n",
    "# Add project root to path for imports\n",
    "sys.path.append(os.path.abspath('..'))\n",
    "\n",
    "from src.data.data_loader import ChicagoCrimeDataLoader\n",
    "\n",
    "# Set plotting style\n",
    "sns.set(style=\"whitegrid\")\n",
    "plt.rcParams.update({'font.size': 12})"
   ]
  },
  {
   "cell_type": "markdown",
   "metadata": {},
   "source": [
    "## Load the Data\n",
    "\n",
    "First, we'll load the theft crime data from the Chicago Data Portal."
   ]
  },
  {
   "cell_type": "code",
   "execution_count": null,
   "metadata": {},
   "outputs": [],
   "source": [
    "# Initialize data loader\n",
    "data_loader = ChicagoCrimeDataLoader()\n",
    "\n",
    "# Fetch theft crime data (limit can be adjusted)\n",
    "df = data_loader.fetch_theft_data(limit=5000)\n",
    "\n",
    "# Display basic information\n",
    "print(f\"Dataset shape: {df.shape}\")\n",
    "print(\"\\nColumn Data Types:\")\n",
    "print(df.dtypes)\n",
    "\n",
    "# Display sample data\n",
    "df.head()"
   ]
  },
  {
   "cell_type": "markdown",
   "metadata": {},
   "source": [
    "## Data Overview\n",
    "\n",
    "Let's get an overview of the dataset and check for missing values."
   ]
  },
  {
   "cell_type": "code",
   "execution_count": null,
   "metadata": {},
   "outputs": [],
   "source": [
    "# Basic statistics\n",
    "df.describe(include='all')"
   ]
  },
  {
   "cell_type": "code",
   "execution_count": null,
   "metadata": {},
   "outputs": [],
   "source": [
    "# Check missing values\n",
    "missing_values = df.isnull().sum()\n",
    "missing_percentage = 100 * missing_values / len(df)\n",
    "\n",
    "missing_data = pd.DataFrame({\n",
    "    'Missing Values': missing_values,\n",
    "    'Percentage': missing_percentage\n",
    "})\n",
    "\n",
    "missing_data.sort_values('Missing Values', ascending=False).head(10)"
   ]
  },
  {
   "cell_type": "markdown",
   "metadata": {},
   "source": [
    "## Data Preprocessing\n",
    "\n",
    "Let's preprocess the data for analysis."
   ]
  },
  {
   "cell_type": "code",
   "execution_count": null,
   "metadata": {},
   "outputs": [],
   "source": [
    "# Convert date to datetime\n",
    "df['date'] = pd.to_datetime(df['date'])\n",
    "\n",
    "# Extract datetime features\n",
    "df['hour'] = df['date'].dt.hour\n",
    "df['day_of_week'] = df['date'].dt.day_name()\n",
    "df['month'] = df['date'].dt.month\n",
    "df['year'] = df['date'].dt.year\n",
    "df['day'] = df['date'].dt.day\n",
    "df['is_weekend'] = df['date'].dt.dayofweek >= 5\n",
    "\n",
    "# Convert coordinates to float\n",
    "for col in ['latitude', 'longitude', 'x_coordinate', 'y_coordinate']:\n",
    "    if col in df.columns:\n",
    "        df[col] = pd.to_numeric(df[col], errors='coerce')\n",
    "\n",
    "# Convert arrest to boolean\n",
    "df['arrest'] = df['arrest'].map({'true': True, 'false': False, True: True, False: False})\n",
    "\n",
    "# Check missing coordinates\n",
    "missing_coords = df['latitude'].isna() | df['longitude'].isna()\n",
    "print(f\"Records with missing coordinates: {missing_coords.sum()} ({missing_coords.sum()/len(df)*100:.2f}%)\")\n",
    "df = df.dropna(subset=['latitude', 'longitude'])\n",
    "print(f\"Records after dropping missing coordinates: {df.shape[0]}\")"
   ]
  },
  {
   "cell_type": "markdown",
   "metadata": {},
   "source": [
    "## Exploratory Data Analysis\n",
    "\n",
    "Now, let's explore the data to understand patterns in theft crimes."
   ]
  },
  {
   "cell_type": "code",
   "execution_count": null,
   "metadata": {},
   "outputs": [],
   "source": [
    "# Distribution of theft types\n",
    "plt.figure(figsize=(10, 6))\n",
    "theft_counts = df['description'].value_counts()\n",
    "theft_counts.plot(kind='bar', color='steelblue')\n",
    "plt.title('Distribution of Theft Types')\n",
    "plt.xlabel('Theft Type')\n",
    "plt.ylabel('Count')\n",
    "plt.xticks(rotation=45)\n",
    "plt.tight_layout()\n",
    "plt.show()"
   ]
  },
  {
   "cell_type": "code",
   "execution_count": null,
   "metadata": {},
   "outputs": [],
   "source": [
    "# Crimes by hour of day\n",
    "plt.figure(figsize=(12, 6))\n",
    "hour_counts = df['hour'].value_counts().sort_index()\n",
    "sns.barplot(x=hour_counts.index, y=hour_counts.values, color='steelblue')\n",
    "plt.title('Theft Crimes by Hour of Day')\n",
    "plt.xlabel('Hour')\n",
    "plt.ylabel('Count')\n",
    "plt.xticks(range(24))\n",
    "plt.grid(alpha=0.3)\n",
    "plt.tight_layout()\n",
    "plt.show()"
   ]
  },
  {
   "cell_type": "code",
   "execution_count": null,
   "metadata": {},
   "outputs": [],
   "source": [
    "# Crimes by day of week\n",
    "plt.figure(figsize=(12, 6))\n",
    "day_order = ['Monday', 'Tuesday', 'Wednesday', 'Thursday', 'Friday', 'Saturday', 'Sunday']\n",
    "day_counts = df['day_of_week'].value_counts().reindex(day_order)\n",
    "sns.barplot(x=day_counts.index, y=day_counts.values, color='steelblue')\n",
    "plt.title('Theft Crimes by Day of Week')\n",
    "plt.xlabel('Day of Week')\n",
    "plt.ylabel('Count')\n",
    "plt.grid(alpha=0.3)\n",
    "plt.tight_layout()\n",
    "plt.show()"
   ]
  },
  {
   "cell_type": "code",
   "execution_count": null,
   "metadata": {},
   "outputs": [],
   "source": [
    "# Crimes by month\n",
    "plt.figure(figsize=(12, 6))\n",
    "month_counts = df['month'].value_counts().sort_index()\n",
    "month_names = ['Jan', 'Feb', 'Mar', 'Apr', 'May', 'Jun', 'Jul', 'Aug', 'Sep', 'Oct', 'Nov', 'Dec']\n",
    "sns.barplot(x=[month_names[i-1] for i in month_counts.index], y=month_counts.values, color='steelblue')\n",
    "plt.title('Theft Crimes by Month')\n",
    "plt.xlabel('Month')\n",
    "plt.ylabel('Count')\n",
    "plt.grid(alpha=0.3)\n",
    "plt.tight_layout()\n",
    "plt.show()"
   ]
  },
  {
   "cell_type": "code",
   "execution_count": null,
   "metadata": {},
   "outputs": [],
   "source": [
    "# Arrest rate for theft crimes\n",
    "plt.figure(figsize=(10, 6))\n",
    "arrest_counts = df['arrest'].value_counts()\n",
    "arrest_percent = 100 * arrest_counts / arrest_counts.sum()\n",
    "\n",
    "plt.pie(arrest_counts, labels=['Not Arrested', 'Arrested'], autopct='%1.1f%%', startangle=90,\n",
    "        colors=['#FF9999', '#66B2FF'], wedgeprops={'edgecolor': 'w'})\n",
    "plt.axis('equal')\n",
    "plt.title('Arrest Rate for Theft Crimes')\n",
    "plt.tight_layout()\n",
    "plt.show()\n",
    "\n",
    "print(f\"Arrest rate: {arrest_percent[True]:.2f}%\")"
   ]
  },
  {
   "cell_type": "code",
   "execution_count": null,
   "metadata": {},
   "outputs": [],
   "source": [
    "# Top 10 locations for theft crimes\n",
    "plt.figure(figsize=(12, 8))\n",
    "location_counts = df['location_description'].value_counts().head(10)\n",
    "sns.barplot(y=location_counts.index, x=location_counts.values, color='steelblue')\n",
    "plt.title('Top 10 Locations for Theft Crimes')\n",
    "plt.xlabel('Count')\n",
    "plt.ylabel('Location')\n",
    "plt.grid(alpha=0.3)\n",
    "plt.tight_layout()\n",
    "plt.show()"
   ]
  },
  {
   "cell_type": "markdown",
   "metadata": {},
   "source": [
    "## Time Series Analysis\n",
    "\n",
    "Let's analyze how theft crimes have changed over time."
   ]
  },
  {
   "cell_type": "code",
   "execution_count": null,
   "metadata": {},
   "outputs": [],
   "source": [
    "# Set date as index\n",
    "df_time = df.set_index('date')\n",
    "\n",
    "# Resample to monthly counts\n",
    "monthly_counts = df_time.resample('M').size()\n",
    "\n",
    "# Plot time series\n",
    "plt.figure(figsize=(14, 7))\n",
    "monthly_counts.plot()\n",
    "plt.title('Monthly Theft Crimes')\n",
    "plt.xlabel('Date')\n",
    "plt.ylabel('Number of Crimes')\n",
    "plt.grid(alpha=0.3)\n",
    "plt.tight_layout()\n",
    "plt.show()"
   ]
  },
  {
   "cell_type": "markdown",
   "metadata": {},
   "source": [
    "## Spatial Analysis\n",
    "\n",
    "Let's examine the spatial distribution of theft crimes."
   ]
  },
  {
   "cell_type": "code",
   "execution_count": null,
   "metadata": {},
   "outputs": [],
   "source": [
    "# Drop rows with missing coordinates\n",
    "df_map = df.dropna(subset=['latitude', 'longitude'])\n",
    "\n",
    "# Plot heatmap (if using folium)\n",
    "try:\n",
    "    import folium\n",
    "    from folium.plugins import HeatMap\n",
    "    \n",
    "    # Chicago coordinates\n",
    "    chicago_coords = [41.8781, -87.6298]\n",
    "    \n",
    "    # Create map\n",
    "    m = folium.Map(location=chicago_coords, zoom_start=11, tiles='CartoDB positron')\n",
    "    \n",
    "    # Add heatmap\n",
    "    heat_data = df_map[['latitude', 'longitude']].values.tolist()\n",
    "    HeatMap(heat_data, radius=15, blur=10, max_zoom=13).add_to(m)\n",
    "    \n",
    "    # Display map\n",
    "    m.save('theft_heatmap.html')\n",
    "except ImportError:\n",
    "    # If folium is not available, use scatter plot\n",
    "    plt.figure(figsize=(12, 10))\n",
    "    plt.scatter(df_map['longitude'], df_map['latitude'], alpha=0.5, s=5)\n",
    "    plt.title('Spatial Distribution of Theft Crimes')\n",
    "    plt.xlabel('Longitude')\n",
    "    plt.ylabel('Latitude')\n",
    "    plt.grid(alpha=0.3)\n",
    "    plt.tight_layout()\n",
    "    plt.show()"
   ]
  },
  {
   "cell_type": "markdown",
   "metadata": {},
   "source": [
    "## Correlation Analysis\n",
    "\n",
    "Let's examine correlations between features."
   ]
  },
  {
   "cell_type": "code",
   "execution_count": null,
   "metadata": {},
   "outputs": [],
   "source": [
    "# Select numerical columns\n",
    "numerical_cols = ['hour', 'month', 'year', 'day', 'is_weekend', 'arrest']\n",
    "numerical_df = df[numerical_cols]\n",
    "\n",
    "# Compute correlation matrix\n",
    "corr_matrix = numerical_df.corr()\n",
    "\n",
    "# Plot correlation matrix\n",
    "plt.figure(figsize=(10, 8))\n",
    "sns.heatmap(corr_matrix, annot=True, cmap='coolwarm', vmin=-1, vmax=1)\n",
    "plt.title('Correlation Matrix of Features')\n",
    "plt.tight_layout()\n",
    "plt.show()"
   ]
  },
  {
   "cell_type": "markdown",
   "metadata": {},
   "source": [
    "## Arrest Analysis\n",
    "\n",
    "Let's analyze factors related to arrests."
   ]
  },
  {
   "cell_type": "code",
   "execution_count": null,
   "metadata": {},
   "outputs": [],
   "source": [
    "# Arrest rate by hour\n",
    "arrest_by_hour = df.groupby('hour')['arrest'].mean().sort_index()\n",
    "\n",
    "plt.figure(figsize=(12, 6))\n",
    "sns.lineplot(x=arrest_by_hour.index, y=arrest_by_hour.values, marker='o')\n",
    "plt.title('Arrest Rate by Hour of Day')\n",
    "plt.xlabel('Hour')\n",
    "plt.ylabel('Arrest Rate')\n",
    "plt.xticks(range(24))\n",
    "plt.ylim(0, arrest_by_hour.max() * 1.1)\n",
    "plt.grid(alpha=0.3)\n",
    "plt.tight_layout()\n",
    "plt.show()"
   ]
  },
  {
   "cell_type": "code",
   "execution_count": null,
   "metadata": {},
   "outputs": [],
   "source": [
    "# Arrest rate by day of week\n",
    "arrest_by_day = df.groupby('day_of_week')['arrest'].mean()\n",
    "arrest_by_day = arrest_by_day.reindex(day_order)\n",
    "\n",
    "plt.figure(figsize=(12, 6))\n",
    "sns.barplot(x=arrest_by_day.index, y=arrest_by_day.values, color='steelblue')\n",
    "plt.title('Arrest Rate by Day of Week')\n",
    "plt.xlabel('Day of Week')\n",
    "plt.ylabel('Arrest Rate')\n",
    "plt.grid(alpha=0.3)\n",
    "plt.tight_layout()\n",
    "plt.show()"
   ]
  },
  {
   "cell_type": "code",
   "execution_count": null,
   "metadata": {},
   "outputs": [],
   "source": [
    "# Arrest rate by theft type\n",
    "arrest_by_type = df.groupby('description')['arrest'].mean()\n",
    "\n",
    "plt.figure(figsize=(10, 6))\n",
    "sns.barplot(x=arrest_by_type.index, y=arrest_by_type.values, color='steelblue')\n",
    "plt.title('Arrest Rate by Theft Type')\n",
    "plt.xlabel('Theft Type')\n",
    "plt.ylabel('Arrest Rate')\n",
    "plt.xticks(rotation=45)\n",
    "plt.grid(alpha=0.3)\n",
    "plt.tight_layout()\n",
    "plt.show()"
   ]
  },
  {
   "cell_type": "markdown",
   "metadata": {},
   "source": [
    "## Summary of Findings\n",
    "\n",
    "Key insights from the exploratory data analysis:\n",
    "\n",
    "1. Temporal patterns: [Your observations about time patterns]\n",
    "2. Spatial distribution: [Your observations about location patterns]\n",
    "3. Arrest rates: [Your observations about arrests]\n",
    "4. Location types: [Your observations about common locations]\n",
    "\n",
    "These insights will guide our feature engineering and model development in the next phase."
   ]
  }
 ],
 "metadata": {
  "kernelspec": {
   "display_name": "pycaret_env",
   "language": "python",
   "name": "python3"
  },
  "language_info": {
   "codemirror_mode": {
    "name": "ipython",
    "version": 3
   },
   "file_extension": ".py",
   "mimetype": "text/x-python",
   "name": "python",
   "nbconvert_exporter": "python",
   "pygments_lexer": "ipython3",
   "version": "3.11.9"
  }
 },
 "nbformat": 4,
 "nbformat_minor": 4
}
